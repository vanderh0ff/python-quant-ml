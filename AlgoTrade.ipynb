{
 "cells": [
  {
   "cell_type": "code",
   "execution_count": 1,
   "id": "aef6cc85-b0c0-4248-8dcc-e38c17bacc8f",
   "metadata": {
    "tags": []
   },
   "outputs": [
    {
     "name": "stdout",
     "output_type": "stream",
     "text": [
      "Requirement already satisfied: pandas in /opt/conda/envs/sagemaker-distribution/lib/python3.8/site-packages (2.0.3)\n",
      "Requirement already satisfied: numpy in /opt/conda/envs/sagemaker-distribution/lib/python3.8/site-packages (1.24.4)\n",
      "Requirement already satisfied: matplotlib in /opt/conda/envs/sagemaker-distribution/lib/python3.8/site-packages (3.7.2)\n",
      "Collecting statsmodels\n",
      "  Downloading statsmodels-0.14.0-cp38-cp38-manylinux_2_17_x86_64.manylinux2014_x86_64.whl (10.2 MB)\n",
      "\u001b[2K     \u001b[90m━━━━━━━━━━━━━━━━━━━━━━━━━━━━━━━━━━━━━━━━\u001b[0m \u001b[32m10.2/10.2 MB\u001b[0m \u001b[31m59.8 MB/s\u001b[0m eta \u001b[36m0:00:00\u001b[0m00:01\u001b[0m0:01\u001b[0m\n",
      "\u001b[?25hCollecting pandas_datareader\n",
      "  Downloading pandas_datareader-0.10.0-py3-none-any.whl (109 kB)\n",
      "\u001b[2K     \u001b[90m━━━━━━━━━━━━━━━━━━━━━━━━━━━━━━━━━━━━━━━\u001b[0m \u001b[32m109.5/109.5 kB\u001b[0m \u001b[31m6.3 MB/s\u001b[0m eta \u001b[36m0:00:00\u001b[0m\n",
      "\u001b[?25hCollecting datetime\n",
      "  Obtaining dependency information for datetime from https://files.pythonhosted.org/packages/95/88/3b9d4042b396221a132180b392ab2a174031a6fb579f7927f3909fc183a7/DateTime-5.2-py3-none-any.whl.metadata\n",
      "  Downloading DateTime-5.2-py3-none-any.whl.metadata (33 kB)\n",
      "Collecting yfinance\n",
      "  Obtaining dependency information for yfinance from https://files.pythonhosted.org/packages/e6/b3/388ab967a387cc92926f70e97688dd9a7189b29a0773db815ffc5289e2b5/yfinance-0.2.31-py2.py3-none-any.whl.metadata\n",
      "  Downloading yfinance-0.2.31-py2.py3-none-any.whl.metadata (11 kB)\n",
      "Collecting sklearn\n",
      "  Downloading sklearn-0.0.post10.tar.gz (3.6 kB)\n",
      "  Preparing metadata (setup.py) ... \u001b[?25ldone\n",
      "\u001b[?25hCollecting PyPortfolioOpt\n",
      "  Downloading pyportfolioopt-1.5.5-py3-none-any.whl (61 kB)\n",
      "\u001b[2K     \u001b[90m━━━━━━━━━━━━━━━━━━━━━━━━━━━━━━━━━━━━━━━━\u001b[0m \u001b[32m61.9/61.9 kB\u001b[0m \u001b[31m10.9 MB/s\u001b[0m eta \u001b[36m0:00:00\u001b[0m\n",
      "\u001b[?25hRequirement already satisfied: python-dateutil>=2.8.2 in /opt/conda/envs/sagemaker-distribution/lib/python3.8/site-packages (from pandas) (2.8.2)\n",
      "Requirement already satisfied: pytz>=2020.1 in /opt/conda/envs/sagemaker-distribution/lib/python3.8/site-packages (from pandas) (2023.3)\n",
      "Requirement already satisfied: tzdata>=2022.1 in /opt/conda/envs/sagemaker-distribution/lib/python3.8/site-packages (from pandas) (2023.3)\n",
      "Requirement already satisfied: contourpy>=1.0.1 in /opt/conda/envs/sagemaker-distribution/lib/python3.8/site-packages (from matplotlib) (1.1.0)\n",
      "Requirement already satisfied: cycler>=0.10 in /opt/conda/envs/sagemaker-distribution/lib/python3.8/site-packages (from matplotlib) (0.11.0)\n",
      "Requirement already satisfied: fonttools>=4.22.0 in /opt/conda/envs/sagemaker-distribution/lib/python3.8/site-packages (from matplotlib) (4.42.0)\n",
      "Requirement already satisfied: kiwisolver>=1.0.1 in /opt/conda/envs/sagemaker-distribution/lib/python3.8/site-packages (from matplotlib) (1.4.4)\n",
      "Requirement already satisfied: packaging>=20.0 in /opt/conda/envs/sagemaker-distribution/lib/python3.8/site-packages (from matplotlib) (23.1)\n",
      "Requirement already satisfied: pillow>=6.2.0 in /opt/conda/envs/sagemaker-distribution/lib/python3.8/site-packages (from matplotlib) (10.0.0)\n",
      "Requirement already satisfied: pyparsing<3.1,>=2.3.1 in /opt/conda/envs/sagemaker-distribution/lib/python3.8/site-packages (from matplotlib) (3.0.9)\n",
      "Requirement already satisfied: importlib-resources>=3.2.0 in /opt/conda/envs/sagemaker-distribution/lib/python3.8/site-packages (from matplotlib) (6.0.1)\n",
      "Requirement already satisfied: scipy!=1.9.2,>=1.4 in /opt/conda/envs/sagemaker-distribution/lib/python3.8/site-packages (from statsmodels) (1.10.1)\n",
      "Collecting patsy>=0.5.2 (from statsmodels)\n",
      "  Downloading patsy-0.5.3-py2.py3-none-any.whl (233 kB)\n",
      "\u001b[2K     \u001b[90m━━━━━━━━━━━━━━━━━━━━━━━━━━━━━━━━━━━━━━\u001b[0m \u001b[32m233.8/233.8 kB\u001b[0m \u001b[31m32.7 MB/s\u001b[0m eta \u001b[36m0:00:00\u001b[0m\n",
      "\u001b[?25hCollecting lxml (from pandas_datareader)\n",
      "  Obtaining dependency information for lxml from https://files.pythonhosted.org/packages/44/1b/0771c38e65ad23e25368b5e07c920054774b8d12477a4fad116bf500de73/lxml-4.9.3-cp38-cp38-manylinux_2_28_x86_64.whl.metadata\n",
      "  Downloading lxml-4.9.3-cp38-cp38-manylinux_2_28_x86_64.whl.metadata (3.8 kB)\n",
      "Requirement already satisfied: requests>=2.19.0 in /opt/conda/envs/sagemaker-distribution/lib/python3.8/site-packages (from pandas_datareader) (2.31.0)\n",
      "Collecting zope.interface (from datetime)\n",
      "  Obtaining dependency information for zope.interface from https://files.pythonhosted.org/packages/46/2e/777a4c4a95e44c5d6200c089369bfb59bf14b0bc22afd6e327b4c7878515/zope.interface-6.1-cp38-cp38-manylinux_2_5_x86_64.manylinux1_x86_64.manylinux_2_17_x86_64.manylinux2014_x86_64.whl.metadata\n",
      "  Downloading zope.interface-6.1-cp38-cp38-manylinux_2_5_x86_64.manylinux1_x86_64.manylinux_2_17_x86_64.manylinux2014_x86_64.whl.metadata (41 kB)\n",
      "\u001b[2K     \u001b[90m━━━━━━━━━━━━━━━━━━━━━━━━━━━━━━━━━━━━━━━━\u001b[0m \u001b[32m41.7/41.7 kB\u001b[0m \u001b[31m9.9 MB/s\u001b[0m eta \u001b[36m0:00:00\u001b[0m\n",
      "\u001b[?25hCollecting multitasking>=0.0.7 (from yfinance)\n",
      "  Downloading multitasking-0.0.11-py3-none-any.whl (8.5 kB)\n",
      "Collecting appdirs>=1.4.4 (from yfinance)\n",
      "  Downloading appdirs-1.4.4-py2.py3-none-any.whl (9.6 kB)\n",
      "Collecting frozendict>=2.3.4 (from yfinance)\n",
      "  Downloading frozendict-2.3.8-cp38-cp38-manylinux_2_17_x86_64.manylinux2014_x86_64.whl (113 kB)\n",
      "\u001b[2K     \u001b[90m━━━━━━━━━━━━━━━━━━━━━━━━━━━━━━━━━━━━━━\u001b[0m \u001b[32m113.1/113.1 kB\u001b[0m \u001b[31m24.5 MB/s\u001b[0m eta \u001b[36m0:00:00\u001b[0m\n",
      "\u001b[?25hCollecting peewee>=3.16.2 (from yfinance)\n",
      "  Downloading peewee-3.17.0.tar.gz (2.9 MB)\n",
      "\u001b[2K     \u001b[90m━━━━━━━━━━━━━━━━━━━━━━━━━━━━━━━━━━━━━━━━\u001b[0m \u001b[32m2.9/2.9 MB\u001b[0m \u001b[31m91.1 MB/s\u001b[0m eta \u001b[36m0:00:00\u001b[0m\n",
      "\u001b[?25h  Installing build dependencies ... \u001b[?25ldone\n",
      "\u001b[?25h  Getting requirements to build wheel ... \u001b[?25ldone\n",
      "\u001b[?25h  Preparing metadata (pyproject.toml) ... \u001b[?25ldone\n",
      "\u001b[?25hRequirement already satisfied: beautifulsoup4>=4.11.1 in /opt/conda/envs/sagemaker-distribution/lib/python3.8/site-packages (from yfinance) (4.12.2)\n",
      "Collecting html5lib>=1.1 (from yfinance)\n",
      "  Downloading html5lib-1.1-py2.py3-none-any.whl (112 kB)\n",
      "\u001b[2K     \u001b[90m━━━━━━━━━━━━━━━━━━━━━━━━━━━━━━━━━━━━━━\u001b[0m \u001b[32m112.2/112.2 kB\u001b[0m \u001b[31m24.8 MB/s\u001b[0m eta \u001b[36m0:00:00\u001b[0m\n",
      "\u001b[?25hCollecting cvxpy<2.0.0,>=1.1.19 (from PyPortfolioOpt)\n",
      "  Obtaining dependency information for cvxpy<2.0.0,>=1.1.19 from https://files.pythonhosted.org/packages/8f/ed/b633283f74608056c96f588cdae80adeba1af7a7a37563ffbfddc190b135/cvxpy-1.4.1-cp38-cp38-manylinux_2_17_x86_64.manylinux2014_x86_64.whl.metadata\n",
      "  Downloading cvxpy-1.4.1-cp38-cp38-manylinux_2_17_x86_64.manylinux2014_x86_64.whl.metadata (8.8 kB)\n",
      "Requirement already satisfied: soupsieve>1.2 in /opt/conda/envs/sagemaker-distribution/lib/python3.8/site-packages (from beautifulsoup4>=4.11.1->yfinance) (2.3.2.post1)\n",
      "Collecting osqp>=0.6.2 (from cvxpy<2.0.0,>=1.1.19->PyPortfolioOpt)\n",
      "  Obtaining dependency information for osqp>=0.6.2 from https://files.pythonhosted.org/packages/80/0f/e9cfc005199817227e823390f9747416f6fdaad1f8b0af4a78ab06960a7a/osqp-0.6.3-cp38-cp38-manylinux_2_5_x86_64.manylinux1_x86_64.manylinux_2_17_x86_64.manylinux2014_x86_64.whl.metadata\n",
      "  Downloading osqp-0.6.3-cp38-cp38-manylinux_2_5_x86_64.manylinux1_x86_64.manylinux_2_17_x86_64.manylinux2014_x86_64.whl.metadata (1.7 kB)\n",
      "Collecting ecos>=2 (from cvxpy<2.0.0,>=1.1.19->PyPortfolioOpt)\n",
      "  Downloading ecos-2.0.12-cp38-cp38-manylinux_2_17_x86_64.manylinux2014_x86_64.whl (221 kB)\n",
      "\u001b[2K     \u001b[90m━━━━━━━━━━━━━━━━━━━━━━━━━━━━━━━━━━━━━━\u001b[0m \u001b[32m221.6/221.6 kB\u001b[0m \u001b[31m27.7 MB/s\u001b[0m eta \u001b[36m0:00:00\u001b[0m\n",
      "\u001b[?25hCollecting clarabel>=0.5.0 (from cvxpy<2.0.0,>=1.1.19->PyPortfolioOpt)\n",
      "  Obtaining dependency information for clarabel>=0.5.0 from https://files.pythonhosted.org/packages/8c/9b/3bfc692407c6a5b3975e5075e3b7f16f4e3a9a6c72191d342a1232476d95/clarabel-0.6.0-cp37-abi3-manylinux_2_17_x86_64.manylinux2014_x86_64.whl.metadata\n",
      "  Downloading clarabel-0.6.0-cp37-abi3-manylinux_2_17_x86_64.manylinux2014_x86_64.whl.metadata (4.4 kB)\n",
      "Collecting scs>=3.0 (from cvxpy<2.0.0,>=1.1.19->PyPortfolioOpt)\n",
      "  Downloading scs-3.2.3-cp38-cp38-manylinux_2_17_x86_64.manylinux2014_x86_64.whl (10.7 MB)\n",
      "\u001b[2K     \u001b[90m━━━━━━━━━━━━━━━━━━━━━━━━━━━━━━━━━━━━━━━━\u001b[0m \u001b[32m10.7/10.7 MB\u001b[0m \u001b[31m88.0 MB/s\u001b[0m eta \u001b[36m0:00:00\u001b[0m00:01\u001b[0m00:01\u001b[0m\n",
      "\u001b[?25hCollecting pybind11 (from cvxpy<2.0.0,>=1.1.19->PyPortfolioOpt)\n",
      "  Obtaining dependency information for pybind11 from https://files.pythonhosted.org/packages/06/55/9f73c32dda93fa4f539fafa268f9504e83c489f460c380371d94296126cd/pybind11-2.11.1-py3-none-any.whl.metadata\n",
      "  Downloading pybind11-2.11.1-py3-none-any.whl.metadata (9.5 kB)\n",
      "Requirement already satisfied: six>=1.9 in /opt/conda/envs/sagemaker-distribution/lib/python3.8/site-packages (from html5lib>=1.1->yfinance) (1.16.0)\n",
      "Requirement already satisfied: webencodings in /opt/conda/envs/sagemaker-distribution/lib/python3.8/site-packages (from html5lib>=1.1->yfinance) (0.5.1)\n",
      "Requirement already satisfied: zipp>=3.1.0 in /opt/conda/envs/sagemaker-distribution/lib/python3.8/site-packages (from importlib-resources>=3.2.0->matplotlib) (3.16.2)\n",
      "Requirement already satisfied: charset-normalizer<4,>=2 in /opt/conda/envs/sagemaker-distribution/lib/python3.8/site-packages (from requests>=2.19.0->pandas_datareader) (3.2.0)\n",
      "Requirement already satisfied: idna<4,>=2.5 in /opt/conda/envs/sagemaker-distribution/lib/python3.8/site-packages (from requests>=2.19.0->pandas_datareader) (3.4)\n",
      "Requirement already satisfied: urllib3<3,>=1.21.1 in /opt/conda/envs/sagemaker-distribution/lib/python3.8/site-packages (from requests>=2.19.0->pandas_datareader) (1.26.15)\n",
      "Requirement already satisfied: certifi>=2017.4.17 in /opt/conda/envs/sagemaker-distribution/lib/python3.8/site-packages (from requests>=2.19.0->pandas_datareader) (2023.7.22)\n",
      "Requirement already satisfied: setuptools in /opt/conda/envs/sagemaker-distribution/lib/python3.8/site-packages (from zope.interface->datetime) (68.0.0)\n",
      "Collecting qdldl (from osqp>=0.6.2->cvxpy<2.0.0,>=1.1.19->PyPortfolioOpt)\n",
      "  Obtaining dependency information for qdldl from https://files.pythonhosted.org/packages/ac/e9/94e6b2878a488c55a0d5ab76a4bdb12d30fcfe4f98b7aa38a9ad1f433013/qdldl-0.1.7.post0-cp38-cp38-manylinux_2_17_x86_64.manylinux2014_x86_64.whl.metadata\n",
      "  Downloading qdldl-0.1.7.post0-cp38-cp38-manylinux_2_17_x86_64.manylinux2014_x86_64.whl.metadata (1.7 kB)\n",
      "Downloading DateTime-5.2-py3-none-any.whl (52 kB)\n",
      "\u001b[2K   \u001b[90m━━━━━━━━━━━━━━━━━━━━━━━━━━━━━━━━━━━━━━━━\u001b[0m \u001b[32m52.2/52.2 kB\u001b[0m \u001b[31m11.9 MB/s\u001b[0m eta \u001b[36m0:00:00\u001b[0m\n",
      "\u001b[?25hDownloading yfinance-0.2.31-py2.py3-none-any.whl (65 kB)\n",
      "\u001b[2K   \u001b[90m━━━━━━━━━━━━━━━━━━━━━━━━━━━━━━━━━━━━━━━━\u001b[0m \u001b[32m65.6/65.6 kB\u001b[0m \u001b[31m13.8 MB/s\u001b[0m eta \u001b[36m0:00:00\u001b[0m\n",
      "\u001b[?25hDownloading cvxpy-1.4.1-cp38-cp38-manylinux_2_17_x86_64.manylinux2014_x86_64.whl (1.2 MB)\n",
      "\u001b[2K   \u001b[90m━━━━━━━━━━━━━━━━━━━━━━━━━━━━━━━━━━━━━━━━\u001b[0m \u001b[32m1.2/1.2 MB\u001b[0m \u001b[31m79.5 MB/s\u001b[0m eta \u001b[36m0:00:00\u001b[0m\n",
      "\u001b[?25hDownloading lxml-4.9.3-cp38-cp38-manylinux_2_28_x86_64.whl (8.0 MB)\n",
      "\u001b[2K   \u001b[90m━━━━━━━━━━━━━━━━━━━━━━━━━━━━━━━━━━━━━━━━\u001b[0m \u001b[32m8.0/8.0 MB\u001b[0m \u001b[31m89.0 MB/s\u001b[0m eta \u001b[36m0:00:00\u001b[0m:00:01\u001b[0m00:01\u001b[0m\n",
      "\u001b[?25hDownloading zope.interface-6.1-cp38-cp38-manylinux_2_5_x86_64.manylinux1_x86_64.manylinux_2_17_x86_64.manylinux2014_x86_64.whl (249 kB)\n",
      "\u001b[2K   \u001b[90m━━━━━━━━━━━━━━━━━━━━━━━━━━━━━━━━━━━━━━━━\u001b[0m \u001b[32m249.3/249.3 kB\u001b[0m \u001b[31m36.8 MB/s\u001b[0m eta \u001b[36m0:00:00\u001b[0m\n",
      "\u001b[?25hDownloading clarabel-0.6.0-cp37-abi3-manylinux_2_17_x86_64.manylinux2014_x86_64.whl (1.4 MB)\n",
      "\u001b[2K   \u001b[90m━━━━━━━━━━━━━━━━━━━━━━━━━━━━━━━━━━━━━━━━\u001b[0m \u001b[32m1.4/1.4 MB\u001b[0m \u001b[31m68.8 MB/s\u001b[0m eta \u001b[36m0:00:00\u001b[0m\n",
      "\u001b[?25hDownloading osqp-0.6.3-cp38-cp38-manylinux_2_5_x86_64.manylinux1_x86_64.manylinux_2_17_x86_64.manylinux2014_x86_64.whl (299 kB)\n",
      "\u001b[2K   \u001b[90m━━━━━━━━━━━━━━━━━━━━━━━━━━━━━━━━━━━━━━━━\u001b[0m \u001b[32m300.0/300.0 kB\u001b[0m \u001b[31m22.8 MB/s\u001b[0m eta \u001b[36m0:00:00\u001b[0m\n",
      "\u001b[?25hDownloading pybind11-2.11.1-py3-none-any.whl (227 kB)\n",
      "\u001b[2K   \u001b[90m━━━━━━━━━━━━━━━━━━━━━━━━━━━━━━━━━━━━━━━━\u001b[0m \u001b[32m227.7/227.7 kB\u001b[0m \u001b[31m30.1 MB/s\u001b[0m eta \u001b[36m0:00:00\u001b[0m\n",
      "\u001b[?25hDownloading qdldl-0.1.7.post0-cp38-cp38-manylinux_2_17_x86_64.manylinux2014_x86_64.whl (1.1 MB)\n",
      "\u001b[2K   \u001b[90m━━━━━━━━━━━━━━━━━━━━━━━━━━━━━━━━━━━━━━━━\u001b[0m \u001b[32m1.1/1.1 MB\u001b[0m \u001b[31m52.4 MB/s\u001b[0m eta \u001b[36m0:00:00\u001b[0m\n",
      "\u001b[?25hBuilding wheels for collected packages: sklearn, peewee\n",
      "  Building wheel for sklearn (setup.py) ... \u001b[?25ldone\n",
      "\u001b[?25h  Created wheel for sklearn: filename=sklearn-0.0.post10-py3-none-any.whl size=2958 sha256=cbf5db1fc943db3da0038a51c63c25030ca68da39c09953a233adb4dcba2c8f2\n",
      "  Stored in directory: /home/studio-lab-user/.cache/pip/wheels/3b/1f/cd/e6505747b74c9bccdec4a1d8a768960cbd49d5ba8c88a58652\n",
      "  Building wheel for peewee (pyproject.toml) ... \u001b[?25ldone\n",
      "\u001b[?25h  Created wheel for peewee: filename=peewee-3.17.0-cp38-cp38-linux_x86_64.whl size=295913 sha256=1bc692ab09dc17d0440c27a747d6d4e18758920efe7e34c00c825dc23cdd343e\n",
      "  Stored in directory: /home/studio-lab-user/.cache/pip/wheels/8a/2c/db/72c95212e78c98614b5f89978fc5d68a67e39ea7701fc8c504\n",
      "Successfully built sklearn peewee\n",
      "Installing collected packages: sklearn, peewee, multitasking, appdirs, zope.interface, pybind11, patsy, lxml, html5lib, frozendict, scs, qdldl, ecos, datetime, clarabel, yfinance, statsmodels, pandas_datareader, osqp, cvxpy, PyPortfolioOpt\n",
      "Successfully installed PyPortfolioOpt-1.5.5 appdirs-1.4.4 clarabel-0.6.0 cvxpy-1.4.1 datetime-5.2 ecos-2.0.12 frozendict-2.3.8 html5lib-1.1 lxml-4.9.3 multitasking-0.0.11 osqp-0.6.3 pandas_datareader-0.10.0 patsy-0.5.3 peewee-3.17.0 pybind11-2.11.1 qdldl-0.1.7.post0 scs-3.2.3 sklearn-0.0.post10 statsmodels-0.14.0 yfinance-0.2.31 zope.interface-6.1\n"
     ]
    }
   ],
   "source": [
    "!pip install pandas numpy matplotlib statsmodels pandas_datareader datetime yfinance sklearn PyPortfolioOpt\n"
   ]
  },
  {
   "cell_type": "code",
   "execution_count": 6,
   "id": "44aab912-db40-425d-96ad-129c61d5a325",
   "metadata": {
    "tags": []
   },
   "outputs": [
    {
     "name": "stdout",
     "output_type": "stream",
     "text": [
      "Collecting pandas_ta\n",
      "  Downloading pandas_ta-0.3.14b.tar.gz (115 kB)\n",
      "\u001b[2K     \u001b[90m━━━━━━━━━━━━━━━━━━━━━━━━━━━━━━━━━━━━━━━\u001b[0m \u001b[32m115.1/115.1 kB\u001b[0m \u001b[31m7.1 MB/s\u001b[0m eta \u001b[36m0:00:00\u001b[0m\n",
      "\u001b[?25h  Preparing metadata (setup.py) ... \u001b[?25ldone\n",
      "\u001b[?25hRequirement already satisfied: pandas in /opt/conda/envs/sagemaker-distribution/lib/python3.8/site-packages (from pandas_ta) (2.0.3)\n",
      "Requirement already satisfied: python-dateutil>=2.8.2 in /opt/conda/envs/sagemaker-distribution/lib/python3.8/site-packages (from pandas->pandas_ta) (2.8.2)\n",
      "Requirement already satisfied: pytz>=2020.1 in /opt/conda/envs/sagemaker-distribution/lib/python3.8/site-packages (from pandas->pandas_ta) (2023.3)\n",
      "Requirement already satisfied: tzdata>=2022.1 in /opt/conda/envs/sagemaker-distribution/lib/python3.8/site-packages (from pandas->pandas_ta) (2023.3)\n",
      "Requirement already satisfied: numpy>=1.20.3 in /opt/conda/envs/sagemaker-distribution/lib/python3.8/site-packages (from pandas->pandas_ta) (1.24.4)\n",
      "Requirement already satisfied: six>=1.5 in /opt/conda/envs/sagemaker-distribution/lib/python3.8/site-packages (from python-dateutil>=2.8.2->pandas->pandas_ta) (1.16.0)\n",
      "Building wheels for collected packages: pandas_ta\n",
      "  Building wheel for pandas_ta (setup.py) ... \u001b[?25ldone\n",
      "\u001b[?25h  Created wheel for pandas_ta: filename=pandas_ta-0.3.14b0-py3-none-any.whl size=218908 sha256=fae2da470828418eea659ba6fc17bf4cdfad7251655a09bc8c18cec95a33d778\n",
      "  Stored in directory: /home/studio-lab-user/.cache/pip/wheels/54/4a/75/06b8e63fce6f6d2c1baae5c208edb18eca128407b0c96e1153\n",
      "Successfully built pandas_ta\n",
      "Installing collected packages: pandas_ta\n",
      "Successfully installed pandas_ta-0.3.14b0\n"
     ]
    }
   ],
   "source": [
    "!pip install pandas_ta"
   ]
  },
  {
   "cell_type": "code",
   "execution_count": 7,
   "id": "f75a3871-6bcb-4103-95c1-406055a6ce0c",
   "metadata": {
    "tags": []
   },
   "outputs": [],
   "source": [
    "from statsmodels.regression.rolling import RollingOLS\n",
    "import pandas_datareader.data as web\n",
    "import matplotlib.pyplot as plt\n",
    "import statsmodels.api as sm\n",
    "import pandas as pd\n",
    "import numpy as np\n",
    "import datetime as dt\n",
    "import yfinance as yf\n",
    "import pandas_ta\n",
    "import warnings"
   ]
  },
  {
   "cell_type": "code",
   "execution_count": 8,
   "id": "3b0619e6-71fa-44e2-aa5e-119c825648fb",
   "metadata": {
    "tags": []
   },
   "outputs": [],
   "source": [
    "warnings.filterwarnings('ignore')"
   ]
  },
  {
   "cell_type": "code",
   "execution_count": 15,
   "id": "5cbb52b5-61db-4c25-b50f-79039d1a3db8",
   "metadata": {
    "tags": []
   },
   "outputs": [],
   "source": [
    "sp500 = pd.read_html('https://en.wikipedia.org/wiki/List_of_S%26P_500_companies')[0]"
   ]
  },
  {
   "cell_type": "code",
   "execution_count": 16,
   "id": "dd49cea3-5829-4af1-94c2-21bda8d7505a",
   "metadata": {
    "tags": []
   },
   "outputs": [],
   "source": [
    "sp500['Symbol'] = sp500['Symbol'].str.replace('.','-')"
   ]
  },
  {
   "cell_type": "code",
   "execution_count": 17,
   "id": "afe9be75-cd6a-48bb-b46e-0f09f08eba26",
   "metadata": {
    "tags": []
   },
   "outputs": [],
   "source": [
    "symbol_list = sp500['Symbol'].unique().tolist()"
   ]
  },
  {
   "cell_type": "code",
   "execution_count": 18,
   "id": "ac1c7d7a-d232-4e3a-bfca-caacdcdbff4b",
   "metadata": {
    "tags": []
   },
   "outputs": [],
   "source": [
    "end_date = '2023-10-30'\n",
    "start_date = pd.to_datetime(end_date)-pd.DateOffset(365*8)"
   ]
  },
  {
   "cell_type": "code",
   "execution_count": 19,
   "id": "c6b02db9-9ee1-469e-aef6-d553cad1e854",
   "metadata": {
    "tags": []
   },
   "outputs": [
    {
     "name": "stdout",
     "output_type": "stream",
     "text": [
      "[*********************100%%**********************]  503 of 503 completed\n"
     ]
    }
   ],
   "source": [
    "df = yf.download(tickers=symbol_list,\n",
    "                 start=start_date,\n",
    "                 end=end_date)"
   ]
  },
  {
   "cell_type": "code",
   "execution_count": 27,
   "id": "711131a8-f5cf-491a-8274-c35fd532c6e2",
   "metadata": {
    "tags": []
   },
   "outputs": [],
   "source": [
    "sdf = df.stack()"
   ]
  },
  {
   "cell_type": "code",
   "execution_count": 28,
   "id": "007f6f64-3386-42a0-83ad-8ff7f7ab3fd0",
   "metadata": {
    "tags": []
   },
   "outputs": [],
   "source": [
    "sdf.index.names = ['date', 'ticker']"
   ]
  },
  {
   "cell_type": "code",
   "execution_count": 31,
   "id": "86037981-4c4f-4d86-93d0-3d4b3b89a05d",
   "metadata": {
    "tags": []
   },
   "outputs": [],
   "source": [
    "sdf.columns = sdf.columns.str.lower()"
   ]
  },
  {
   "cell_type": "code",
   "execution_count": 35,
   "id": "cd91fb26-0697-4533-9b93-0dfc60267102",
   "metadata": {
    "tags": []
   },
   "outputs": [],
   "source": [
    "sdf['garman_klass_vol'] = ((np.log(sdf['high']) - np.log(sdf['low']))**2)/2-(2 * np.log(2)-1) * (np.log(sdf['adj close']) - np.log(sdf['open']))**2"
   ]
  },
  {
   "cell_type": "code",
   "execution_count": 43,
   "id": "9aeb021c-472e-4dd6-b3a3-027395e47334",
   "metadata": {
    "tags": []
   },
   "outputs": [],
   "source": [
    "sdf['rsi'] = sdf.groupby(level=1)['adj close'].transform(lambda x: pandas_ta.rsi(close=x, length=20))"
   ]
  },
  {
   "cell_type": "code",
   "execution_count": 57,
   "id": "5215c230-74ca-4c9b-b34a-fefa9f31aadc",
   "metadata": {
    "tags": []
   },
   "outputs": [],
   "source": [
    "sdf['bb_low'] = sdf.groupby(level=1)['adj close'].transform(lambda x : pandas_ta.bbands(close=np.log1p(x), lenght=20).iloc[:,0])\n",
    "sdf['bb_mid'] = sdf.groupby(level=1)['adj close'].transform(lambda x : pandas_ta.bbands(close=np.log1p(x), lenght=20).iloc[:,1])\n",
    "sdf['bb_high'] = sdf.groupby(level=1)['adj close'].transform(lambda x : pandas_ta.bbands(close=np.log1p(x), lenght=20).iloc[:,2])"
   ]
  },
  {
   "cell_type": "code",
   "execution_count": 58,
   "id": "0762b26c-6e8d-45a6-9c83-79f85f7bb439",
   "metadata": {
    "tags": []
   },
   "outputs": [
    {
     "data": {
      "text/html": [
       "<div>\n",
       "<style scoped>\n",
       "    .dataframe tbody tr th:only-of-type {\n",
       "        vertical-align: middle;\n",
       "    }\n",
       "\n",
       "    .dataframe tbody tr th {\n",
       "        vertical-align: top;\n",
       "    }\n",
       "\n",
       "    .dataframe thead th {\n",
       "        text-align: right;\n",
       "    }\n",
       "</style>\n",
       "<table border=\"1\" class=\"dataframe\">\n",
       "  <thead>\n",
       "    <tr style=\"text-align: right;\">\n",
       "      <th></th>\n",
       "      <th></th>\n",
       "      <th>adj close</th>\n",
       "      <th>close</th>\n",
       "      <th>high</th>\n",
       "      <th>low</th>\n",
       "      <th>open</th>\n",
       "      <th>volume</th>\n",
       "      <th>garman_klass_vol</th>\n",
       "      <th>rsi</th>\n",
       "      <th>bb_low</th>\n",
       "      <th>bb_mid</th>\n",
       "      <th>bb_high</th>\n",
       "    </tr>\n",
       "    <tr>\n",
       "      <th>date</th>\n",
       "      <th>ticker</th>\n",
       "      <th></th>\n",
       "      <th></th>\n",
       "      <th></th>\n",
       "      <th></th>\n",
       "      <th></th>\n",
       "      <th></th>\n",
       "      <th></th>\n",
       "      <th></th>\n",
       "      <th></th>\n",
       "      <th></th>\n",
       "      <th></th>\n",
       "    </tr>\n",
       "  </thead>\n",
       "  <tbody>\n",
       "    <tr>\n",
       "      <th rowspan=\"5\" valign=\"top\">2015-11-02</th>\n",
       "      <th>A</th>\n",
       "      <td>36.128700</td>\n",
       "      <td>38.590000</td>\n",
       "      <td>38.619999</td>\n",
       "      <td>37.799999</td>\n",
       "      <td>37.869999</td>\n",
       "      <td>1810800.0</td>\n",
       "      <td>-0.000626</td>\n",
       "      <td>NaN</td>\n",
       "      <td>NaN</td>\n",
       "      <td>NaN</td>\n",
       "      <td>NaN</td>\n",
       "    </tr>\n",
       "    <tr>\n",
       "      <th>AAL</th>\n",
       "      <td>44.313286</td>\n",
       "      <td>46.470001</td>\n",
       "      <td>46.820000</td>\n",
       "      <td>46.200001</td>\n",
       "      <td>46.200001</td>\n",
       "      <td>6189300.0</td>\n",
       "      <td>-0.000583</td>\n",
       "      <td>NaN</td>\n",
       "      <td>NaN</td>\n",
       "      <td>NaN</td>\n",
       "      <td>NaN</td>\n",
       "    </tr>\n",
       "    <tr>\n",
       "      <th>AAPL</th>\n",
       "      <td>27.498983</td>\n",
       "      <td>30.295000</td>\n",
       "      <td>30.340000</td>\n",
       "      <td>29.902500</td>\n",
       "      <td>30.200001</td>\n",
       "      <td>128813200.0</td>\n",
       "      <td>-0.003286</td>\n",
       "      <td>NaN</td>\n",
       "      <td>NaN</td>\n",
       "      <td>NaN</td>\n",
       "      <td>NaN</td>\n",
       "    </tr>\n",
       "    <tr>\n",
       "      <th>ABBV</th>\n",
       "      <td>44.862263</td>\n",
       "      <td>63.380001</td>\n",
       "      <td>64.199997</td>\n",
       "      <td>61.439999</td>\n",
       "      <td>61.599998</td>\n",
       "      <td>17008700.0</td>\n",
       "      <td>-0.037869</td>\n",
       "      <td>NaN</td>\n",
       "      <td>NaN</td>\n",
       "      <td>NaN</td>\n",
       "      <td>NaN</td>\n",
       "    </tr>\n",
       "    <tr>\n",
       "      <th>ABT</th>\n",
       "      <td>39.108418</td>\n",
       "      <td>45.430000</td>\n",
       "      <td>45.500000</td>\n",
       "      <td>44.599998</td>\n",
       "      <td>44.880001</td>\n",
       "      <td>5477800.0</td>\n",
       "      <td>-0.007120</td>\n",
       "      <td>NaN</td>\n",
       "      <td>NaN</td>\n",
       "      <td>NaN</td>\n",
       "      <td>NaN</td>\n",
       "    </tr>\n",
       "    <tr>\n",
       "      <th>...</th>\n",
       "      <th>...</th>\n",
       "      <td>...</td>\n",
       "      <td>...</td>\n",
       "      <td>...</td>\n",
       "      <td>...</td>\n",
       "      <td>...</td>\n",
       "      <td>...</td>\n",
       "      <td>...</td>\n",
       "      <td>...</td>\n",
       "      <td>...</td>\n",
       "      <td>...</td>\n",
       "      <td>...</td>\n",
       "    </tr>\n",
       "    <tr>\n",
       "      <th rowspan=\"5\" valign=\"top\">2023-10-27</th>\n",
       "      <th>YUM</th>\n",
       "      <td>119.440002</td>\n",
       "      <td>119.440002</td>\n",
       "      <td>120.250000</td>\n",
       "      <td>118.279999</td>\n",
       "      <td>119.040001</td>\n",
       "      <td>2331000.0</td>\n",
       "      <td>0.000132</td>\n",
       "      <td>41.950112</td>\n",
       "      <td>4.780812</td>\n",
       "      <td>4.791089</td>\n",
       "      <td>4.801366</td>\n",
       "    </tr>\n",
       "    <tr>\n",
       "      <th>ZBH</th>\n",
       "      <td>103.190002</td>\n",
       "      <td>103.190002</td>\n",
       "      <td>104.809998</td>\n",
       "      <td>102.709999</td>\n",
       "      <td>104.000000</td>\n",
       "      <td>1534500.0</td>\n",
       "      <td>0.000181</td>\n",
       "      <td>32.683065</td>\n",
       "      <td>4.637665</td>\n",
       "      <td>4.653832</td>\n",
       "      <td>4.670000</td>\n",
       "    </tr>\n",
       "    <tr>\n",
       "      <th>ZBRA</th>\n",
       "      <td>207.179993</td>\n",
       "      <td>207.179993</td>\n",
       "      <td>207.559998</td>\n",
       "      <td>201.160004</td>\n",
       "      <td>204.600006</td>\n",
       "      <td>565000.0</td>\n",
       "      <td>0.000430</td>\n",
       "      <td>36.064755</td>\n",
       "      <td>5.296815</td>\n",
       "      <td>5.324978</td>\n",
       "      <td>5.353140</td>\n",
       "    </tr>\n",
       "    <tr>\n",
       "      <th>ZION</th>\n",
       "      <td>29.450001</td>\n",
       "      <td>29.450001</td>\n",
       "      <td>30.670000</td>\n",
       "      <td>28.980000</td>\n",
       "      <td>30.590000</td>\n",
       "      <td>2498300.0</td>\n",
       "      <td>0.001049</td>\n",
       "      <td>37.602271</td>\n",
       "      <td>3.407897</td>\n",
       "      <td>3.430305</td>\n",
       "      <td>3.452712</td>\n",
       "    </tr>\n",
       "    <tr>\n",
       "      <th>ZTS</th>\n",
       "      <td>156.029999</td>\n",
       "      <td>156.029999</td>\n",
       "      <td>157.929993</td>\n",
       "      <td>155.160004</td>\n",
       "      <td>157.929993</td>\n",
       "      <td>2407100.0</td>\n",
       "      <td>0.000100</td>\n",
       "      <td>26.035790</td>\n",
       "      <td>5.040078</td>\n",
       "      <td>5.095077</td>\n",
       "      <td>5.150077</td>\n",
       "    </tr>\n",
       "  </tbody>\n",
       "</table>\n",
       "<p>994050 rows × 11 columns</p>\n",
       "</div>"
      ],
      "text/plain": [
       "                    adj close       close  ...    bb_mid   bb_high\n",
       "date       ticker                          ...                    \n",
       "2015-11-02 A        36.128700   38.590000  ...       NaN       NaN\n",
       "           AAL      44.313286   46.470001  ...       NaN       NaN\n",
       "           AAPL     27.498983   30.295000  ...       NaN       NaN\n",
       "           ABBV     44.862263   63.380001  ...       NaN       NaN\n",
       "           ABT      39.108418   45.430000  ...       NaN       NaN\n",
       "...                       ...         ...  ...       ...       ...\n",
       "2023-10-27 YUM     119.440002  119.440002  ...  4.791089  4.801366\n",
       "           ZBH     103.190002  103.190002  ...  4.653832  4.670000\n",
       "           ZBRA    207.179993  207.179993  ...  5.324978  5.353140\n",
       "           ZION     29.450001   29.450001  ...  3.430305  3.452712\n",
       "           ZTS     156.029999  156.029999  ...  5.095077  5.150077\n",
       "\n",
       "[994050 rows x 11 columns]"
      ]
     },
     "execution_count": 58,
     "metadata": {},
     "output_type": "execute_result"
    }
   ],
   "source": [
    "sdf"
   ]
  },
  {
   "cell_type": "code",
   "execution_count": null,
   "id": "b2419174-8137-4582-9fc5-03002853db4a",
   "metadata": {},
   "outputs": [],
   "source": []
  }
 ],
 "metadata": {
  "kernelspec": {
   "display_name": "sagemaker-distribution:Python",
   "language": "python",
   "name": "conda-env-sagemaker-distribution-py"
  },
  "language_info": {
   "codemirror_mode": {
    "name": "ipython",
    "version": 3
   },
   "file_extension": ".py",
   "mimetype": "text/x-python",
   "name": "python",
   "nbconvert_exporter": "python",
   "pygments_lexer": "ipython3",
   "version": "3.8.17"
  }
 },
 "nbformat": 4,
 "nbformat_minor": 5
}
